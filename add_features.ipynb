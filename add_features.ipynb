{
 "cells": [
  {
   "cell_type": "markdown",
   "id": "485d104f",
   "metadata": {},
   "source": [
    "This notebook contains code to add features for a complete time series.\n",
    "These features include:\n",
    "1) Hour (int)\n",
    "2) Day of Week (one hot encoding)\n",
    "3) Holiday (boolean)\n",
    "4) Weather condition (Rainy, Sunny, Windy, etc) (one hot encoding)\n",
    "5) Is weekend? (boolean)"
   ]
  },
  {
   "cell_type": "code",
   "execution_count": null,
   "id": "f58bf6a1",
   "metadata": {},
   "outputs": [],
   "source": [
    "%run Jan-Aug.ipynb\n",
    "%run Sep-Dec.ipynb"
   ]
  },
  {
   "cell_type": "code",
   "execution_count": 223,
   "id": "78a2602a",
   "metadata": {},
   "outputs": [],
   "source": [
    "import datetime\n",
    "import pandas as pd\n",
    "from pandas import Timestamp\n",
    "from pandas.tseries.holiday import USFederalHolidayCalendar\n",
    "import requests\n",
    "from dotenv import load_dotenv\n",
    "import os"
   ]
  },
  {
   "cell_type": "code",
   "execution_count": 220,
   "id": "962cbda7",
   "metadata": {},
   "outputs": [],
   "source": [
    "# this function extracts day of week, hour, holiday, and is weekend features\n",
    "def extract_time_features(df):\n",
    "    # create new time feature df\n",
    "    time_features_df = pd.DataFrame(df[\"started_at\"].tolist(), columns=[\"start_date_time\"])\n",
    "\n",
    "    # extract start date and time info \n",
    "    start_info = df[\"started_at\"].str.split(\" \", expand=True)\n",
    "    start_date, start_time = pd.to_datetime(start_info[0]), start_info[1]\n",
    "\n",
    "    # append day_of_week feature to df (0:Monday - 6:Sunday)\n",
    "    weekday = start_date.dt.weekday\n",
    "    time_features_df[\"day_of_week\"] = weekday\n",
    "    # print(start_date[0], time_features_df[\"day_of_week\"][0])\n",
    "\n",
    "    # append hour feature to df (military time)\n",
    "    time_features_df[\"hour\"] = start_time.str.split(\":\", expand=True)[0]\n",
    "\n",
    "    # append holiday feature to df\n",
    "    cal = USFederalHolidayCalendar()\n",
    "    holidays = cal.holidays()\n",
    "    time_features_df['holiday'] = start_date.isin(holidays)\n",
    "    # print(time_features_df[time_features_df[\"holiday\"] == True])\n",
    "\n",
    "    # append is_weekend feature to df\n",
    "    time_features_df['is_weekend'] = ((weekday == 5) | (weekday == 6)).astype(int)\n",
    "\n",
    "    return time_features_df\n",
    "    "
   ]
  },
  {
   "cell_type": "code",
   "execution_count": 221,
   "id": "c73c35d7",
   "metadata": {},
   "outputs": [
    {
     "name": "stdout",
     "output_type": "stream",
     "text": [
      "                 start_date_time  day_of_week hour  holiday  is_weekend\n",
      "0        2024-01-22 18:43:19.012            0   18    False           0\n",
      "1        2024-01-11 19:19:18.721            3   19    False           0\n",
      "2        2024-01-30 19:17:41.693            1   19    False           0\n",
      "3        2024-01-27 11:27:01.759            5   11    False           1\n",
      "4        2024-01-16 15:15:41.000            1   15    False           0\n",
      "...                          ...          ...  ...      ...         ...\n",
      "1888080  2024-01-29 07:40:32.831            0   07    False           0\n",
      "1888081  2024-01-29 11:56:47.527            0   11    False           0\n",
      "1888082  2024-01-12 16:51:37.231            4   16    False           0\n",
      "1888083  2024-01-26 09:32:45.932            4   09    False           0\n",
      "1888084  2024-01-29 17:29:55.879            0   17    False           0\n",
      "\n",
      "[1888085 rows x 5 columns]\n"
     ]
    }
   ],
   "source": [
    "time_features_df = extract_time_features(jan)\n",
    "print(time_features_df)"
   ]
  },
  {
   "cell_type": "code",
   "execution_count": null,
   "id": "e7d5cc8b",
   "metadata": {},
   "outputs": [],
   "source": [
    "def extract_weather_features(df):\n",
    "    # extract date range\n",
    "    start_info = df[\"started_at\"].str.split(\" \", expand=True)\n",
    "    start_date = pd.to_datetime(start_info[0])\n",
    "    min_date, max_date = start_date.min().date(), start_date.max().date()\n",
    "\n",
    "    # api config and request\n",
    "    load_dotenv()\n",
    "    api_key = os.getenv(\"API_KEY\")\n",
    "    location = \"New York\"\n",
    "    url = f\"https://weather.visualcrossing.com/VisualCrossingWebServices/rest/services/timeline/{location}/{min_date}/{max_date}\"\n",
    "    params = {\"unitGroup\": \"metric\", \"include\": \"hours\", \"key\": api_key, \"contentType\": \"json\"}\n",
    "\n",
    "    response = requests.get(url, params=params)\n",
    "    data = response.json()\n",
    "\n",
    "    # parse data and create df\n",
    "    historical_data = []\n",
    "    for day in data.get(\"days\", []):\n",
    "        for hour in day.get(\"hours\", []):\n",
    "            historical_data.append({\n",
    "                \"hour\": hour[\"datetime\"],\n",
    "                \"date\": day[\"datetime\"],\n",
    "                \"temp\": hour.get(\"temp\"),\n",
    "                \"precip\": hour.get(\"precip\"),\n",
    "                \"conditions\": hour.get(\"conditions\")\n",
    "            })\n",
    "\n",
    "    weather_df = pd.DataFrame(historical_data)\n",
    "    weather_df[\"datetime\"] = pd.to_datetime(weather_df[\"date\"] + \" \" + weather_df[\"datetime\"])\n",
    "\n",
    "    return weather_df\n"
   ]
  },
  {
   "cell_type": "code",
   "execution_count": null,
   "id": "e436b9de",
   "metadata": {},
   "outputs": [],
   "source": [
    "extract_weather_features(jan)"
   ]
  }
 ],
 "metadata": {
  "kernelspec": {
   "display_name": "3.10.13",
   "language": "python",
   "name": "python3"
  },
  "language_info": {
   "codemirror_mode": {
    "name": "ipython",
    "version": 3
   },
   "file_extension": ".py",
   "mimetype": "text/x-python",
   "name": "python",
   "nbconvert_exporter": "python",
   "pygments_lexer": "ipython3",
   "version": "3.10.13"
  }
 },
 "nbformat": 4,
 "nbformat_minor": 5
}
